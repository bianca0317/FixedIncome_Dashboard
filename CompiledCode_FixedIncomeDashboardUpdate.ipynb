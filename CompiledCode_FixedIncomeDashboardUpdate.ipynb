{
 "cells": [
  {
   "cell_type": "markdown",
   "metadata": {},
   "source": [
    "## Code for Straight Run of Fixed Income Dashboard Update"
   ]
  },
  {
   "cell_type": "markdown",
   "metadata": {},
   "source": [
    "#### _Step 1: Libraries_"
   ]
  },
  {
   "cell_type": "code",
   "execution_count": 3,
   "metadata": {},
   "outputs": [],
   "source": [
    "import pandas as pd\n",
    "import numpy as np\n",
    "import datetime\n",
    "import urllib.request\n",
    "from urllib.error import URLError\n",
    "import os\n",
    "import slate3k as slate\n",
    "import re\n",
    "import plotly.express as px\n",
    "import plotly.graph_objects as go\n",
    "from jupyter_dash import JupyterDash\n",
    "import dash_core_components as dcc\n",
    "import dash_html_components as html\n",
    "from dash.dependencies import Input, Output\n",
    "import dash_table"
   ]
  },
  {
   "cell_type": "markdown",
   "metadata": {},
   "source": [
    "  "
   ]
  },
  {
   "cell_type": "markdown",
   "metadata": {},
   "source": [
    "#### _Step 2: Inputs_"
   ]
  },
  {
   "cell_type": "markdown",
   "metadata": {},
   "source": [
    "**Input latest GDP growth if Applicable (Quarterly Release, ~1 month and 1 week after quarter end)**"
   ]
  },
  {
   "cell_type": "code",
   "execution_count": 21,
   "metadata": {},
   "outputs": [],
   "source": [
    "quarter_input='Q2'\n",
    "year_input='2019 - 2020'\n",
    "growth_input=-16.5"
   ]
  },
  {
   "cell_type": "markdown",
   "metadata": {},
   "source": [
    "**Input latest Inflation if Applicable (Monthly Release, ~ 1 week after month end)**"
   ]
  },
  {
   "cell_type": "code",
   "execution_count": 24,
   "metadata": {},
   "outputs": [],
   "source": [
    "year_input=2020\n",
    "month_input=7\n",
    "inflation_input=2.7"
   ]
  },
  {
   "cell_type": "markdown",
   "metadata": {},
   "source": [
    "**Input latest dates for BVAL rates update**"
   ]
  },
  {
   "cell_type": "code",
   "execution_count": 27,
   "metadata": {},
   "outputs": [],
   "source": [
    "Start_Date=\"2020-08-26\"\n",
    "End_Date=\"2020-09-01\""
   ]
  },
  {
   "cell_type": "markdown",
   "metadata": {},
   "source": [
    "  "
   ]
  },
  {
   "cell_type": "markdown",
   "metadata": {},
   "source": [
    "#### _Step 3: Update Databases with Inputs_"
   ]
  },
  {
   "cell_type": "code",
   "execution_count": 23,
   "metadata": {},
   "outputs": [],
   "source": [
    "ph_gdp=pd.read_csv(\"PH_GDP.csv\")\n",
    "new_gdp=pd.DataFrame([quarter_input,str(year_input),growth_input]).transpose()\n",
    "new_gdp.columns=['quarter','year','GDP']\n",
    "updated_gdp=ph_gdp.append(new_gdp)\n",
    "updated_gdp.to_csv(\"PH_GDP.csv\",index=False)"
   ]
  },
  {
   "cell_type": "code",
   "execution_count": 26,
   "metadata": {},
   "outputs": [],
   "source": [
    "infl=pd.read_csv(\"PH_inflation_historical.csv\")\n",
    "new_infl=pd.DataFrame([int(year_input),int(month_input),inflation_input]).transpose()\n",
    "new_infl.columns=['Year','Month','Inflation']\n",
    "updated_infl=infl.append(new_infl)\n",
    "cols=['Year','Month']\n",
    "updated_infl[cols]=updated_infl[cols].applymap(np.int64)\n",
    "updated_infl.to_csv(\"PH_inflation_historical.csv\",index=False)"
   ]
  },
  {
   "cell_type": "code",
   "execution_count": 28,
   "metadata": {},
   "outputs": [],
   "source": [
    "# Function to convert string to datetime\n",
    "#Source: https://www.geeksforgeeks.org/python-convert-string-to-datetime-and-vice-versa/\n",
    "def convert(date_time): \n",
    "    format = '%Y-%m-%d' # The format \n",
    "    datetime_str = datetime.datetime.strptime(date_time, format) \n",
    "    return datetime_str\n",
    "\n",
    "#Convert DateType\n",
    "Start_Date=convert(Start_Date)\n",
    "End_Date=convert(End_Date)\n",
    "DateDiff=(End_Date-Start_Date).days\n",
    "\n",
    "# Dates/Files to extract\n",
    "fname_format_start='https://www.pds.com.ph/wp-content/uploads/'\n",
    "fname_format_end= 'PHP-BVAL-Reference-Rates-Benchmark-Tenors_'\n",
    "DateList=[]\n",
    "for i in range(DateDiff+1):\n",
    "    new_date=Start_Date + datetime.timedelta(i)\n",
    "    str_date=str(new_date.date()).split('-')\n",
    "    f_name=fname_format_start+str_date[0]+\"/\"+str_date[1]+\"/\"+fname_format_end+str(new_date.date())+'.pdf'\n",
    "    DateList.append(f_name)"
   ]
  },
  {
   "cell_type": "code",
   "execution_count": 30,
   "metadata": {},
   "outputs": [],
   "source": [
    "# Download if files exist, otherwise PASS\n",
    "pattern=re.compile(\"Benchmark-Tenors_(\\S+).pdf\")\n",
    "myPath='C:/Users/j_bia/Documents/projects/FixedIncomeDashboardCreation/LatestBVALrates/'\n",
    "\n",
    "for link in DateList:\n",
    "    #filename\n",
    "    name_date=pattern.search(link.split('/')[-1]).group(1)\n",
    "    fullfilename = os.path.join(myPath, name_date+'.pdf')\n",
    "    try:\n",
    "        urllib.request.urlretrieve(link, fullfilename)\n",
    "    except URLError:\n",
    "        pass"
   ]
  },
  {
   "cell_type": "code",
   "execution_count": 31,
   "metadata": {},
   "outputs": [],
   "source": [
    "# Compile downloaded files in a dataframe containing latest BVAL rates\n",
    "folder_name=r\"C:\\Users\\j_bia\\Documents\\projects\\FixedIncomeDashboardCreation\\LatestBVALrates\"\n",
    "f_names=os.listdir(folder_name)\n",
    "\n",
    "pattern=re.compile(\"(\\S+).pdf\")\n",
    "BVALrates=pd.DataFrame([])\n",
    "\n",
    "for filename in f_names:\n",
    "    #get the date for the BVAL rate to be extracted\n",
    "    name_date=pattern.search(filename).group(1)\n",
    "    \n",
    "    #extract rates, clean using Regex\n",
    "    with open(folder_name+'\\\\'+ filename, 'rb') as f:\n",
    "        extracted_text = slate.PDF(f)\n",
    "        \n",
    "    subbed=re.sub(r'\\\\n\\\\n', ',', str(extracted_text))\n",
    "    subbed=re.sub(r'\\[\\'','',subbed)\n",
    "    subbed=re.sub(r'\\\\x0c\\'\\]','',subbed)\n",
    "    list_subbed=subbed.split(\",\")\n",
    "       \n",
    "    BVAL_today=pd.DataFrame(list_subbed)[15:27]\n",
    "    BVAL_today.columns=[name_date]\n",
    "    BVAL_today.reset_index(inplace=True)\n",
    "    BVAL_today=BVAL_today[[name_date]].transpose()\n",
    "        \n",
    "    BVALrates=BVALrates.append(BVAL_today)\n",
    "\n",
    "BVALrates.reset_index(inplace=True)\n",
    "BVALrates.columns=['DATE','1M','3M','6M','1Y','2Y','3Y','4Y','5Y','7Y','10Y','20Y','25Y']\n",
    "# After loading, manually transfer the pdf files in \"LatestBVALrates\" to \"BVALratesPDF\""
   ]
  },
  {
   "cell_type": "code",
   "execution_count": 57,
   "metadata": {},
   "outputs": [
    {
     "data": {
      "text/html": [
       "<div>\n",
       "<style scoped>\n",
       "    .dataframe tbody tr th:only-of-type {\n",
       "        vertical-align: middle;\n",
       "    }\n",
       "\n",
       "    .dataframe tbody tr th {\n",
       "        vertical-align: top;\n",
       "    }\n",
       "\n",
       "    .dataframe thead th {\n",
       "        text-align: right;\n",
       "    }\n",
       "</style>\n",
       "<table border=\"1\" class=\"dataframe\">\n",
       "  <thead>\n",
       "    <tr style=\"text-align: right;\">\n",
       "      <th></th>\n",
       "      <th>DATE</th>\n",
       "      <th>1M</th>\n",
       "      <th>3M</th>\n",
       "      <th>6M</th>\n",
       "      <th>1Y</th>\n",
       "      <th>2Y</th>\n",
       "      <th>3Y</th>\n",
       "      <th>4Y</th>\n",
       "      <th>5Y</th>\n",
       "      <th>7Y</th>\n",
       "      <th>10Y</th>\n",
       "      <th>20Y</th>\n",
       "      <th>25Y</th>\n",
       "    </tr>\n",
       "  </thead>\n",
       "  <tbody>\n",
       "    <tr>\n",
       "      <th>0</th>\n",
       "      <td>2020-08-26</td>\n",
       "      <td>1.120</td>\n",
       "      <td>1.194</td>\n",
       "      <td>1.429</td>\n",
       "      <td>1.790</td>\n",
       "      <td>2.072</td>\n",
       "      <td>2.224</td>\n",
       "      <td>2.364</td>\n",
       "      <td>2.490</td>\n",
       "      <td>2.659</td>\n",
       "      <td>2.785</td>\n",
       "      <td>3.484</td>\n",
       "      <td>3.654</td>\n",
       "    </tr>\n",
       "    <tr>\n",
       "      <th>1</th>\n",
       "      <td>2020-08-27</td>\n",
       "      <td>1.130</td>\n",
       "      <td>1.201</td>\n",
       "      <td>1.437</td>\n",
       "      <td>1.802</td>\n",
       "      <td>2.102</td>\n",
       "      <td>2.263</td>\n",
       "      <td>2.408</td>\n",
       "      <td>2.531</td>\n",
       "      <td>2.700</td>\n",
       "      <td>2.778</td>\n",
       "      <td>3.520</td>\n",
       "      <td>3.647</td>\n",
       "    </tr>\n",
       "    <tr>\n",
       "      <th>2</th>\n",
       "      <td>2020-08-28</td>\n",
       "      <td>1.132</td>\n",
       "      <td>1.203</td>\n",
       "      <td>1.440</td>\n",
       "      <td>1.815</td>\n",
       "      <td>2.118</td>\n",
       "      <td>2.284</td>\n",
       "      <td>2.426</td>\n",
       "      <td>2.544</td>\n",
       "      <td>2.704</td>\n",
       "      <td>2.797</td>\n",
       "      <td>3.520</td>\n",
       "      <td>3.630</td>\n",
       "    </tr>\n",
       "    <tr>\n",
       "      <th>3</th>\n",
       "      <td>2020-09-01</td>\n",
       "      <td>1.123</td>\n",
       "      <td>1.199</td>\n",
       "      <td>1.449</td>\n",
       "      <td>1.813</td>\n",
       "      <td>2.150</td>\n",
       "      <td>2.316</td>\n",
       "      <td>2.456</td>\n",
       "      <td>2.566</td>\n",
       "      <td>2.715</td>\n",
       "      <td>2.803</td>\n",
       "      <td>3.610</td>\n",
       "      <td>3.791</td>\n",
       "    </tr>\n",
       "  </tbody>\n",
       "</table>\n",
       "</div>"
      ],
      "text/plain": [
       "         DATE     1M     3M     6M     1Y     2Y     3Y     4Y     5Y     7Y  \\\n",
       "0  2020-08-26  1.120  1.194  1.429  1.790  2.072  2.224  2.364  2.490  2.659   \n",
       "1  2020-08-27  1.130  1.201  1.437  1.802  2.102  2.263  2.408  2.531  2.700   \n",
       "2  2020-08-28  1.132  1.203  1.440  1.815  2.118  2.284  2.426  2.544  2.704   \n",
       "3  2020-09-01  1.123  1.199  1.449  1.813  2.150  2.316  2.456  2.566  2.715   \n",
       "\n",
       "     10Y    20Y    25Y  \n",
       "0  2.785  3.484  3.654  \n",
       "1  2.778  3.520  3.647  \n",
       "2  2.797  3.520  3.630  \n",
       "3  2.803  3.610  3.791  "
      ]
     },
     "execution_count": 57,
     "metadata": {},
     "output_type": "execute_result"
    }
   ],
   "source": [
    "BVALrates"
   ]
  },
  {
   "cell_type": "code",
   "execution_count": 34,
   "metadata": {},
   "outputs": [],
   "source": [
    "# Append the updated rates to historical database\n",
    "historical=pd.read_csv(\"PHreferencerates.csv\")\n",
    "updated=pd.concat([historical,BVALrates],ignore_index=True)\n",
    "updated.set_index('DATE',inplace=True)\n",
    "updated.to_csv(\"PHreferencerates.csv\")"
   ]
  },
  {
   "cell_type": "markdown",
   "metadata": {},
   "source": [
    "#### _Step 4: Computing Z-scores for Term Spreads_"
   ]
  },
  {
   "cell_type": "code",
   "execution_count": 4,
   "metadata": {},
   "outputs": [],
   "source": [
    "df = pd.read_csv (r'C:\\Users\\j_bia\\Documents\\projects\\FixedIncomeDashboardCreation\\PHreferencerates.csv')\n",
    "df.set_index(\"DATE\",inplace=True)\n",
    "\n",
    "#Create Spreads\n",
    "Spread_20Y10Y=df['20Y']-df['10Y']\n",
    "Spread_10Y7Y=df['10Y']-df['7Y']\n",
    "Spread_10Y5Y=df['10Y']-df['5Y']\n",
    "Spread_10Y2Y=df['10Y']-df['2Y']\n",
    "Spread_7Y5Y=df['7Y']-df['5Y']\n",
    "Spread_7Y2Y=df['7Y']-df['2Y']\n",
    "Spread_5Y2Y=df['5Y']-df['2Y']\n",
    "Spread_2Y1Y=df['2Y']-df['1Y']\n",
    "\n",
    "#Combine Spreads to dataframe\n",
    "Spreads=pd.concat([Spread_20Y10Y,Spread_10Y7Y,Spread_10Y5Y,Spread_10Y2Y,Spread_7Y5Y,Spread_7Y2Y,Spread_5Y2Y,Spread_2Y1Y],axis=1)\n",
    "\n",
    "#rename the columns\n",
    "Spreads.columns=['20-10','10-7','10-5','10-2','7-5','7-2','5-2','2-1']\n",
    "\n",
    "#1 YEAR Z\n",
    "#Get the rolling average spread\n",
    "spread_ave_1year=Spreads.rolling(260).mean()[259:]\n",
    "# Get rolling standard deviations\n",
    "spread_vol_1year=Spreads.rolling(260).std()[259:]\n",
    "# Get same size for the \"X\" of (X-mu)/sigma\n",
    "spreads=Spreads[259:]\n",
    "# Get difference (X-mu)\n",
    "diff_1year=spreads.subtract(spread_ave_1year)\n",
    "# Divide by vol to get Z\n",
    "spread_Z_1year=diff_1year.divide(spread_vol_1year)\n",
    "spread_Z_1year=spread_Z_1year.round(decimals=2)\n",
    "\n",
    "#5 YEAR Z\n",
    "# Get the rolling average spread\n",
    "spread_ave_5year=Spreads.rolling(260*5).mean()[260*5-1:]\n",
    "# Get rolling standard deviations\n",
    "spread_vol_5year=Spreads.rolling(260*5).std()[260*5-1:]\n",
    "# Get same size\n",
    "spreads_5year=Spreads[260*5-1:]\n",
    "# Get difference (X-mu)\n",
    "diff_5year=spreads_5year.subtract(spread_ave_5year)\n",
    "# Divide by vol to get Z\n",
    "spread_Z_5year=diff_5year.divide(spread_vol_5year)\n",
    "spread_Z_5year=spread_Z_5year.round(decimals=2)\n",
    "\n",
    "\n",
    "# Get Latest Z-scores\n",
    "latest_1yr_Z=spread_Z_1year.tail(1).transpose()\n",
    "latest_1yr_Z.columns=[\"1-year Z-score\"]\n",
    "latest_5yr_Z=spread_Z_5year.tail(1).transpose()\n",
    "latest_5yr_Z.columns=[\"5-year Z-score\"]\n",
    "latest_Z=pd.concat([latest_1yr_Z,latest_5yr_Z],axis=1)\n",
    "latest_Z.to_csv(\"latest_Z_termspread.csv\")"
   ]
  },
  {
   "cell_type": "markdown",
   "metadata": {},
   "source": [
    "#### _Step 5: Computing Z-scores for Real Yields_"
   ]
  },
  {
   "cell_type": "code",
   "execution_count": 5,
   "metadata": {},
   "outputs": [],
   "source": [
    "inflation=pd.read_csv(\"PH_inflation_historical.csv\")\n",
    "rates=pd.read_csv(\"PHreferencerates.csv\")\n",
    "\n",
    "# convert DATE to datetime format\n",
    "# only have inflation 2013 onwards (since base=2012)\n",
    "# get only rates 2013 onwards as well\n",
    "rates['DATE']=pd.to_datetime(rates['DATE'])\n",
    "rates=rates[rates.DATE>'2013-01-01']\n",
    "\n",
    "# add DATE column to inflation\n",
    "inflation['DATE']=inflation.apply(lambda row: datetime.datetime(int(row.Year),int(row.Month),1),axis=1)\n",
    "\n",
    "# Merge on DATE\n",
    "combined=pd.merge_asof(rates,inflation,on='DATE')\n",
    "\n",
    "# Create the real yields dataframe\n",
    "tenors=['1M','3M','6M','1Y','2Y','3Y','4Y','5Y','7Y','10Y','20Y']\n",
    "realyields=pd.DataFrame([combined[x]-combined['Inflation'] for x in tenors]).transpose()\n",
    "realyields.columns=tenors\n",
    "realyields['DATE']=combined['DATE']\n",
    "realyields.set_index('DATE',inplace=True)\n",
    "\n",
    "#1 year Z-score\n",
    "#Get the rolling average real yield\n",
    "realyield_ave_1year=realyields.rolling(260).mean()[259:]\n",
    "#Get the rolling std of real yields\n",
    "realyield_vol_1year=realyields.rolling(260).std()[259:]\n",
    "# Get same size\n",
    "realyields_1year=realyields[259:]\n",
    "# Get difference (X-mu)\n",
    "diff_realyield_1year=realyields_1year.subtract(realyield_ave_1year)\n",
    "# Divide by vol to get Z\n",
    "realyield_Z_1year=diff_realyield_1year.divide(realyield_vol_1year)\n",
    "realyield_Z_1year=realyield_Z_1year.round(decimals=2)\n",
    "\n",
    "#5 year Z-score\n",
    "#Get the rolling average real yield\n",
    "realyield_ave_5year=realyields.rolling(260*5).mean()[260*5-1:]\n",
    "#Get the rolling std of real yields\n",
    "realyield_vol_5year=realyields.rolling(260*5).std()[260*5-1:]\n",
    "# Get same size\n",
    "realyields_5year=realyields[260*5-1:]\n",
    "# Get difference (X-mu)\n",
    "diff_realyield_5year=realyields_5year.subtract(realyield_ave_5year)\n",
    "# Divide by vol to get Z\n",
    "realyield_Z_5year=diff_realyield_5year.divide(realyield_vol_5year)\n",
    "realyield_Z_5year=realyield_Z_5year.round(decimals=2)\n",
    "\n",
    "latest1yr_Z_realyield=realyield_Z_1year.tail(1).transpose()\n",
    "latest1yr_Z_realyield.columns=['Real Yield 1-year Z']\n",
    "latest5yr_Z_realyield=realyield_Z_5year.tail(1).transpose()\n",
    "latest5yr_Z_realyield.columns=['Real Yield 5-year Z']\n",
    "latestZ_realyields=pd.concat([latest1yr_Z_realyield,latest5yr_Z_realyield],axis=1)\n",
    "latestZ_realyields.to_csv(\"latestZ_realyields.csv\")"
   ]
  },
  {
   "cell_type": "markdown",
   "metadata": {},
   "source": [
    "#### _Step 6: Dashboard Creation using DASH_"
   ]
  },
  {
   "cell_type": "code",
   "execution_count": 6,
   "metadata": {},
   "outputs": [],
   "source": [
    "gdp=pd.read_csv(\"PH_GDP.csv\")\n",
    "def convert_to_date(quarter,year_range):\n",
    "    #get last 4 characters of year_range\n",
    "    year=int(year_range[-4:])\n",
    "    #set month and day for quarters\n",
    "    if quarter=='Q1':\n",
    "        month=3\n",
    "        day=31\n",
    "    elif quarter=='Q2':\n",
    "        month=6\n",
    "        day=30\n",
    "    elif quarter=='Q3':\n",
    "        month=9\n",
    "        day=30\n",
    "    else:\n",
    "        month=12\n",
    "        day=31\n",
    "   \n",
    "    return datetime.datetime(year,month,day)\n",
    "gdp['Date']=pd.DataFrame([convert_to_date(gdp['quarter'][x],gdp['year'][x]) for x in range(0,len(gdp))])\n",
    "\n",
    "inflation=pd.read_csv(\"PH_inflation_historical.csv\")\n",
    "inflation['Date']=inflation.apply(lambda row: datetime.datetime(int(row.Year),int(row.Month),1),axis=1)\n",
    "\n",
    "realyields=pd.read_csv(\"latestZ_realyields.csv\")\n",
    "realyields.columns=['Tenor','Real Yield 1-year Z','Real Yield 5-year Z']\n",
    "termspreads=pd.read_csv('latest_Z_termspread.csv')\n",
    "termspreads.columns=['Spread','1-year Z-score','5-year Z-score']\n",
    "\n",
    "df = pd.read_csv(r'C:\\Users\\j_bia\\Documents\\projects\\FixedIncomeDashboardCreation\\PHreferencerates.csv')"
   ]
  },
  {
   "cell_type": "code",
   "execution_count": 7,
   "metadata": {},
   "outputs": [
    {
     "name": "stdout",
     "output_type": "stream",
     "text": [
      "Dash app running on http://127.0.0.1:8080/\n"
     ]
    }
   ],
   "source": [
    "app = JupyterDash(__name__)\n",
    "available_tenors = df.columns[1:]\n",
    "\n",
    "#create font_color for Term Spreads\n",
    "font_color1=['rgb(40,40,40)']\n",
    "labels=list(termspreads['Spread'])\n",
    "Zspreadsvals=[list(termspreads['1-year Z-score']),list(termspreads['5-year Z-score'])]\n",
    "for k in range(len(Zspreadsvals)):\n",
    "    for v in Zspreadsvals[k]:\n",
    "        if v<=0:\n",
    "            mix='rgb(255,0,0)'\n",
    "        elif v< 1:\n",
    "            mix='rgb(50,50,50)'\n",
    "        else:\n",
    "            mix='rgb(35,135,50)'\n",
    "        font_color1.append(mix)\n",
    "font_color1=[font_color1[0],font_color1[1:9],font_color1[9:]]\n",
    "\n",
    "#create font_color for Real Yields\n",
    "font_color2 = ['rgb(40,40,40)'] +  [['rgb(255,0,0)' if v <= 0 else 'rgb(10,10,10)' \n",
    "                                     for v in realyields[k]] for k in realyields.columns[1:]]\n",
    "\n",
    "\n",
    "# Create Term Spreads Z-table\n",
    "fig0=go.Figure(data=[go.Table(header=dict(values=list(termspreads.columns),\n",
    "                                          fill_color='#FBDDF0',align='center'),\n",
    "                           cells=dict(values=[labels,Zspreadsvals[0],Zspreadsvals[1]],\n",
    "                                      fill_color='#F2F2F2',align='center', font=dict(color=font_color1)))])\n",
    "\n",
    "\n",
    "# Create Real Yields Z-table\n",
    "fig1=go.Figure(data=[go.Table(header=dict(values=list(realyields.columns),fill_color='#FBDDF0',align='center'),\n",
    "                             cells=dict(values=[realyields['Tenor'],realyields['Real Yield 1-year Z'],\n",
    "                                                realyields['Real Yield 5-year Z']],\n",
    "                                        fill_color='#F2F2F2',align='center',\n",
    "                                       font=dict(color=font_color2)))])\n",
    "\n",
    "app.layout = html.Div([\n",
    "\n",
    "        html.Div([\n",
    "            dcc.Graph(\n",
    "            id='PH_inflation',\n",
    "            figure=px.line(inflation,x='Date',y='Inflation',title='Philippine Inflation'))],\n",
    "        style={'width': '50%', 'display': 'inline-block'}),\n",
    "    \n",
    "        html.Div([\n",
    "            dcc.Graph(\n",
    "            id='PH GDP',\n",
    "            figure=px.line(gdp,x='Date',y='GDP',title='Philippine GDP Growth'))],\n",
    "        style={'width': '50%', 'display': 'inline-block'}),\n",
    "    \n",
    "        html.Div([\n",
    "            dcc.Dropdown(\n",
    "                id='yield_curve',\n",
    "                options=[{'label': i, 'value': i} for i in available_tenors],\n",
    "                value='10Y',\n",
    "                multi=True\n",
    "            ),\n",
    "            dcc.Graph(id='line_chart')],),\n",
    "        \n",
    "        html.Div([\n",
    "            dcc.Graph(\n",
    "            id='Spreads_Zscore',\n",
    "            figure=fig0)],\n",
    "        style={'width': '50%', 'display': 'inline-block'}),\n",
    "    \n",
    "        html.Div([\n",
    "            dcc.Graph(\n",
    "            id='RealYield_Zscore',\n",
    "            figure=fig1)],\n",
    "        style={'width': '50%', 'display': 'inline-block'})\n",
    "    \n",
    "            \n",
    "])\n",
    "\n",
    "@app.callback(\n",
    "    Output('line_chart', 'figure'),\n",
    "    [Input('yield_curve', 'value')])\n",
    "\n",
    "def update_graph(yaxis_column_name):\n",
    "    fig = px.line(df, x='DATE',\n",
    "                     y=yaxis_column_name, title=\"PH yield curve\")\n",
    "    fig.update_layout(margin={'l': 40, 'b': 40, 't': 30, 'r': 30}, hovermode='closest')    \n",
    "    return fig\n",
    "\n",
    "app.run_server(mode='external',port=8080)"
   ]
  },
  {
   "cell_type": "markdown",
   "metadata": {},
   "source": [
    "#### Optional Step: Running on Datapane"
   ]
  },
  {
   "cell_type": "code",
   "execution_count": 8,
   "metadata": {},
   "outputs": [],
   "source": [
    "import datapane as dp"
   ]
  },
  {
   "cell_type": "code",
   "execution_count": 16,
   "metadata": {},
   "outputs": [
    {
     "name": "stdout",
     "output_type": "stream",
     "text": [
      "Publishing report and associated data - please wait..\n",
      "Report successfully published at https://datapane.com/bianca0317/reports/PH_GDP_Inflation_Data/\n"
     ]
    }
   ],
   "source": [
    "r=dp.Report(\n",
    "    dp.Markdown(\"Fixed Income Dashboard\"),\n",
    "    dp.Plot(px.line(gdp,x='Date',y='GDP',title='Philippine GDP Growth')),\n",
    "    dp.Plot(px.line(inflation,x='Date',y='Inflation',title='Philippine Inflation')),\n",
    "    dp.Plot(fig0),\n",
    "    dp.Plot(fig1)\n",
    ")\n",
    "r.publish(name=\"PH_GDP_Inflation_Data\",visibility='PUBLIC')"
   ]
  },
  {
   "cell_type": "code",
   "execution_count": null,
   "metadata": {},
   "outputs": [],
   "source": []
  }
 ],
 "metadata": {
  "kernelspec": {
   "display_name": "Python 3",
   "language": "python",
   "name": "python3"
  },
  "language_info": {
   "codemirror_mode": {
    "name": "ipython",
    "version": 3
   },
   "file_extension": ".py",
   "mimetype": "text/x-python",
   "name": "python",
   "nbconvert_exporter": "python",
   "pygments_lexer": "ipython3",
   "version": "3.8.3"
  }
 },
 "nbformat": 4,
 "nbformat_minor": 4
}
