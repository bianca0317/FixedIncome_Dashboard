{
 "cells": [
  {
   "cell_type": "code",
   "execution_count": 4,
   "metadata": {},
   "outputs": [],
   "source": [
    "import requests\n",
    "import sys\n",
    "import os\n",
    "from bs4 import BeautifulSoup\n",
    "from urllib.parse import urljoin"
   ]
  },
  {
   "cell_type": "markdown",
   "metadata": {},
   "source": [
    "## One-time download historical"
   ]
  },
  {
   "cell_type": "code",
   "execution_count": 2,
   "metadata": {},
   "outputs": [],
   "source": [
    "url=\"https://www.pds.com.ph/index.html%3Fpage_id=56718.html\""
   ]
  },
  {
   "cell_type": "code",
   "execution_count": 5,
   "metadata": {},
   "outputs": [],
   "source": [
    "folder_location=r\"C:\\Users\\Acer\\Desktop\\projects\\DashboardCreation\\BVALratesPDF\""
   ]
  },
  {
   "cell_type": "code",
   "execution_count": 6,
   "metadata": {},
   "outputs": [],
   "source": [
    "#code source: https://stackoverflow.com/questions/54616638/download-all-pdf-files-from-a-website-using-python\n",
    "# one-time extract to get historical\n",
    "response=requests.get(url)\n",
    "soup=BeautifulSoup(response.text,\"html.parser\")\n",
    "for link in soup.select(\"a[href$='.pdf']\"):\n",
    "    filename=os.path.join(folder_location,link['href'].split('/')[-1])\n",
    "    with open(filename,'wb') as f:\n",
    "        f.write(requests.get(urljoin(url,link['href'])).content)"
   ]
  },
  {
   "cell_type": "markdown",
   "metadata": {},
   "source": [
    "## Getting rates for specified dates moving forward"
   ]
  },
  {
   "cell_type": "code",
   "execution_count": 29,
   "metadata": {},
   "outputs": [],
   "source": [
    "import datetime\n",
    "\n",
    "# Function to convert string to datetime\n",
    "#Source: https://www.geeksforgeeks.org/python-convert-string-to-datetime-and-vice-versa/\n",
    "def convert(date_time): \n",
    "    format = '%Y-%m-%d' # The format \n",
    "    datetime_str = datetime.datetime.strptime(date_time, format) \n",
    "    return datetime_str"
   ]
  },
  {
   "cell_type": "code",
   "execution_count": 30,
   "metadata": {},
   "outputs": [],
   "source": [
    "# Input desired dates\n",
    "Start_Date=\"2020-07-18\"\n",
    "End_Date=\"2020-08-25\"\n",
    "\n",
    "#Convert DateType\n",
    "Start_Date=convert(Start_Date)\n",
    "End_Date=convert(End_Date)\n",
    "DateDiff=(End_Date-Start_Date).days"
   ]
  },
  {
   "cell_type": "code",
   "execution_count": 92,
   "metadata": {},
   "outputs": [
    {
     "data": {
      "text/plain": [
       "['https://www.pds.com.ph/wp-content/uploads/2020/07/PHP-BVAL-Reference-Rates-Benchmark-Tenors_2020-07-04.pdf',\n",
       " 'https://www.pds.com.ph/wp-content/uploads/2020/07/PHP-BVAL-Reference-Rates-Benchmark-Tenors_2020-07-05.pdf',\n",
       " 'https://www.pds.com.ph/wp-content/uploads/2020/07/PHP-BVAL-Reference-Rates-Benchmark-Tenors_2020-07-06.pdf',\n",
       " 'https://www.pds.com.ph/wp-content/uploads/2020/07/PHP-BVAL-Reference-Rates-Benchmark-Tenors_2020-07-07.pdf',\n",
       " 'https://www.pds.com.ph/wp-content/uploads/2020/07/PHP-BVAL-Reference-Rates-Benchmark-Tenors_2020-07-08.pdf',\n",
       " 'https://www.pds.com.ph/wp-content/uploads/2020/07/PHP-BVAL-Reference-Rates-Benchmark-Tenors_2020-07-09.pdf',\n",
       " 'https://www.pds.com.ph/wp-content/uploads/2020/07/PHP-BVAL-Reference-Rates-Benchmark-Tenors_2020-07-10.pdf',\n",
       " 'https://www.pds.com.ph/wp-content/uploads/2020/07/PHP-BVAL-Reference-Rates-Benchmark-Tenors_2020-07-11.pdf',\n",
       " 'https://www.pds.com.ph/wp-content/uploads/2020/07/PHP-BVAL-Reference-Rates-Benchmark-Tenors_2020-07-12.pdf',\n",
       " 'https://www.pds.com.ph/wp-content/uploads/2020/07/PHP-BVAL-Reference-Rates-Benchmark-Tenors_2020-07-13.pdf',\n",
       " 'https://www.pds.com.ph/wp-content/uploads/2020/07/PHP-BVAL-Reference-Rates-Benchmark-Tenors_2020-07-14.pdf',\n",
       " 'https://www.pds.com.ph/wp-content/uploads/2020/07/PHP-BVAL-Reference-Rates-Benchmark-Tenors_2020-07-15.pdf',\n",
       " 'https://www.pds.com.ph/wp-content/uploads/2020/07/PHP-BVAL-Reference-Rates-Benchmark-Tenors_2020-07-16.pdf',\n",
       " 'https://www.pds.com.ph/wp-content/uploads/2020/07/PHP-BVAL-Reference-Rates-Benchmark-Tenors_2020-07-17.pdf']"
      ]
     },
     "execution_count": 92,
     "metadata": {},
     "output_type": "execute_result"
    }
   ],
   "source": [
    "# Dates/Files to extract\n",
    "fname_format_start='https://www.pds.com.ph/wp-content/uploads/'\n",
    "fname_format_end= 'PHP-BVAL-Reference-Rates-Benchmark-Tenors_'\n",
    "DateList=[]\n",
    "for i in range(DateDiff+1):\n",
    "    new_date=Start_Date + datetime.timedelta(i)\n",
    "    str_date=str(new_date.date()).split('-')\n",
    "    f_name=fname_format_start+str_date[0]+\"/\"+str_date[1]+\"/\"+fname_format_end+str(new_date.date())+'.pdf'\n",
    "    DateList.append(f_name)\n",
    "DateList"
   ]
  },
  {
   "cell_type": "code",
   "execution_count": 94,
   "metadata": {},
   "outputs": [],
   "source": [
    "import re\n",
    "import urllib.request\n",
    "from urllib.error import URLError\n",
    "import os"
   ]
  },
  {
   "cell_type": "code",
   "execution_count": 96,
   "metadata": {},
   "outputs": [],
   "source": [
    "# Download if files exist, otherwise PASS\n",
    "pattern=re.compile(\"Benchmark-Tenors_(\\S+).pdf\")\n",
    "myPath='C:/Users/j_bia/Documents/projects/DashboardCreation/LatestBVALrates/'\n",
    "\n",
    "for link in DateList:\n",
    "    #filename\n",
    "    name_date=pattern.search(link.split('/')[-1]).group(1)\n",
    "    fullfilename = os.path.join(myPath, name_date+'.pdf')\n",
    "    try:\n",
    "        urllib.request.urlretrieve(link, fullfilename)\n",
    "    except URLError:\n",
    "        pass"
   ]
  },
  {
   "cell_type": "code",
   "execution_count": null,
   "metadata": {},
   "outputs": [],
   "source": []
  }
 ],
 "metadata": {
  "kernelspec": {
   "display_name": "Python 3",
   "language": "python",
   "name": "python3"
  },
  "language_info": {
   "codemirror_mode": {
    "name": "ipython",
    "version": 3
   },
   "file_extension": ".py",
   "mimetype": "text/x-python",
   "name": "python",
   "nbconvert_exporter": "python",
   "pygments_lexer": "ipython3",
   "version": "3.8.3"
  }
 },
 "nbformat": 4,
 "nbformat_minor": 4
}
